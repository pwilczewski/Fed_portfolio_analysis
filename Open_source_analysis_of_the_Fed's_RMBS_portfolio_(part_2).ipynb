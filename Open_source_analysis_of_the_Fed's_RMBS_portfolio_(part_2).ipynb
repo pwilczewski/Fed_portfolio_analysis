{
  "nbformat": 4,
  "nbformat_minor": 0,
  "metadata": {
    "colab": {
      "provenance": [],
      "mount_file_id": "1XDAI65VAf1tgFVmNqT21KCv3GNTZsuVy",
      "authorship_tag": "ABX9TyPSs26oUCJdnSj3eDWDx6ki",
      "include_colab_link": true
    },
    "kernelspec": {
      "name": "python3",
      "display_name": "Python 3"
    },
    "language_info": {
      "name": "python"
    }
  },
  "cells": [
    {
      "cell_type": "markdown",
      "metadata": {
        "id": "view-in-github",
        "colab_type": "text"
      },
      "source": [
        "<a href=\"https://colab.research.google.com/github/pwilczewski/open_source_rmbs/blob/main/Open_source_analysis_of_the_Fed's_RMBS_portfolio_(part_2).ipynb\" target=\"_parent\"><img src=\"https://colab.research.google.com/assets/colab-badge.svg\" alt=\"Open In Colab\"/></a>"
      ]
    },
    {
      "cell_type": "markdown",
      "source": [
        "# 1. Analysis summary\n",
        "In this multi-part series I provide an open source analysis of the Fed's RMBS portfolio. In part 1 I forecasted the portfolio's cash flows and balances to contractual maturity. In part 2 I value the portfolio and assess its risk characteristics. Next in part 3 I will project the taxpayer liability that would result from recapitalizing future operating losses.\n",
        "\n",
        "In this notebook I estimate the value and risk characteristics of the portfolio using the treasury yield curve for discounting. My baseline analysis estimates that as-of 10/19/2022 the net present value of the portfolio is &#36;2,376 billion or 88.35 per 100 of outstanding face amount. Assuming the Fed's liabilities are valued at par, the RMBS portfolio contributes 313 billion to the capital shortfall on the Fed's balance sheet. Additionally each additional basis point of interest rate increase will result in an estimated 1.5 billion decline in the portfolio's valuation."
      ],
      "metadata": {
        "id": "yLOAtp0piU09"
      }
    },
    {
      "cell_type": "code",
      "source": [
        "import numpy as np\n",
        "import pandas as pd\n",
        "import matplotlib.pyplot as plt\n",
        "!pip install QuantLib\n",
        "import QuantLib as ql\n",
        "from os import path\n",
        "\n",
        "if not path.exists('open_source_rmbs/processed_data.csv'):\n",
        "  !git clone https://github.com/pwilczewski/open_source_rmbs\n",
        "mbs_data = pd.read_csv(\"open_source_rmbs/processed_data.csv\", index_col=0)"
      ],
      "metadata": {
        "id": "qLApLwIGl_Uq",
        "colab": {
          "base_uri": "https://localhost:8080/"
        },
        "outputId": "96f83ba6-ae80-47e0-c87a-2488054efb8a"
      },
      "execution_count": null,
      "outputs": [
        {
          "output_type": "stream",
          "name": "stdout",
          "text": [
            "Looking in indexes: https://pypi.org/simple, https://us-python.pkg.dev/colab-wheels/public/simple/\n",
            "Collecting QuantLib\n",
            "  Downloading QuantLib-1.28-cp37-cp37m-manylinux_2_12_x86_64.manylinux2010_x86_64.whl (17.8 MB)\n",
            "\u001b[K     |████████████████████████████████| 17.8 MB 122 kB/s \n",
            "\u001b[?25hInstalling collected packages: QuantLib\n",
            "Successfully installed QuantLib-1.28\n",
            "Cloning into 'open_source_rmbs'...\n",
            "remote: Enumerating objects: 19, done.\u001b[K\n",
            "remote: Counting objects: 100% (19/19), done.\u001b[K\n",
            "remote: Compressing objects: 100% (16/16), done.\u001b[K\n",
            "remote: Total 19 (delta 3), reused 6 (delta 0), pack-reused 0\u001b[K\n",
            "Unpacking objects: 100% (19/19), done.\n"
          ]
        }
      ]
    },
    {
      "cell_type": "markdown",
      "source": [
        "# 2. Yield curve data summary\n",
        "For this analysis I use the Treasury yield curve to discount the portfolio cash flows. I calculate the discount factors using data from the [treasury par yield curve](https://home.treasury.gov/resource-center/data-chart-center/interest-rates/TextView?type=daily_treasury_yield_curve&field_tdr_date_value=2022) as-of 10/19/2022."
      ],
      "metadata": {
        "id": "56DrfnRUxyAh"
      }
    },
    {
      "cell_type": "code",
      "source": [
        "class TreasuryParCurve():\n",
        "  def __init__(self, maturities, rates, asof_date):\n",
        "\n",
        "    convention = ql.Unadjusted\n",
        "    compounding = ql.Compounded\n",
        "    freq = ql.Semiannual\n",
        "    day_count = ql.ActualActual(ql.ActualActual.Bond)\n",
        "    ql.Settings.instance().evaluationDate = asof_date\n",
        "    self.asof_date = asof_date\n",
        "\n",
        "    bonds = []\n",
        "    for r, m in zip(rates, maturities):\n",
        "      # ql.Schedule(effectiveDate, terminationDate, tenor, calendar, convention, terminationDateConvention, rule, endOfMonth)\n",
        "      schedule = ql.Schedule(asof_date, asof_date + m, ql.Period(ql.Semiannual), ql.UnitedStates(), convention, convention, ql.DateGeneration.Backward, True)\n",
        "      # ql.FixedRateBondHelper(price, settlementDays, faceAmount, schedule, coupons, dayCounter, paymentConv=Following)\n",
        "      helper_base = ql.FixedRateBondHelper(ql.QuoteHandle(ql.SimpleQuote(100)), 0, 100.0, schedule, [r/100.0], day_count, convention,)\n",
        "      bonds.append(helper_base)\n",
        "\n",
        "    self.treasury_curve = ql.PiecewiseLogCubicDiscount(asof_date, bonds, day_count)\n",
        "\n",
        "  def calculate_df(self, period_range):\n",
        "    return [self.treasury_curve.discount(self.asof_date+ql.Period(m, ql.Months)) for m in period_range]\n",
        "\n",
        "asof_date = ql.Date(19, 10, 2022)\n",
        "term_points = [1, 2, 3, 4, 6, 12, 24, 36, 60, 84, 120, 240, 360]\n",
        "rates = [3.31, 3.72, 4.07, 4.32, 4.45, 4.60, 4.55, 4.56, 4.35, 4.26, 4.14, 4.38, 4.15]\n",
        "maturities = [ql.Period(t, ql.Months) for t in term_points]\n",
        "base_curve = TreasuryParCurve(maturities, rates, asof_date)\n"
      ],
      "metadata": {
        "id": "HC6QXYrVmCuW"
      },
      "execution_count": null,
      "outputs": []
    },
    {
      "cell_type": "code",
      "source": [
        "yield_curve = pd.DataFrame({\"Term\": term_points, \"Rate\": rates})\n",
        "yield_curve.plot(x=\"Term\", y=\"Rate\",figsize=(8,5))\n",
        "plt.title(\"Treasury par yield curve as-of \" + str(asof_date))\n",
        "plt.ylabel(\"Rate (%)\")\n",
        "plt.show()"
      ],
      "metadata": {
        "colab": {
          "base_uri": "https://localhost:8080/",
          "height": 350
        },
        "id": "JgbelHkrwN_e",
        "outputId": "7b03ff27-d37d-4002-e55b-658ab4daf067"
      },
      "execution_count": null,
      "outputs": [
        {
          "output_type": "display_data",
          "data": {
            "text/plain": [
              "<Figure size 576x360 with 1 Axes>"
            ],
            "image/png": "[encoded data removed]"
          },
          "metadata": {
            "needs_background": "light"
          }
        }
      ]
    },
    {
      "cell_type": "markdown",
      "source": [
        "# 3. Portfolio valuation\n",
        "I calculate the cash flows of each security using the cash flow methodology and assumptions described in part 1. Then I discount these cash flows using the treasury yield curve to calculate the net present value of each security. To estimate the value of the entire RMBS portfolio I rescale the sum of all the security values by the 95\\% size of my data sample. I find that the net present value of the portfolio is 2,376 billion. Given the face amount of 2,690 billion the price of this portfolio relative to par is 88.35."
      ],
      "metadata": {
        "id": "m4xfnTrEx1s6"
      }
    },
    {
      "cell_type": "code",
      "source": [
        "def static_pricing(mbs_data, cpr, discount_factors):\n",
        "\n",
        "  prices = []\n",
        "\n",
        "  for i in range(len(mbs_data)):\n",
        "    loan = mbs_data.iloc[i]\n",
        "    note_rate = loan['note_rate']/1200\n",
        "    coupon = loan['coupon']/1200\n",
        "    term = loan['term'].astype(int)\n",
        "    age = loan['age'].astype(int)\n",
        "    initial_bal = loan['curr_bal']\n",
        "\n",
        "    smmfactors = np.power(1-cpr/1200,range(1,term-age+1))\n",
        "    amfactors = ((1+note_rate)**term - (1+note_rate)**(range(age+1,term+1)))/((1+note_rate)**term - 1)\n",
        "    initial_amfactor = ((1+note_rate)**term - (1+note_rate)**age)/((1+note_rate)**term - 1)\n",
        "    amfactors = smmfactors*amfactors/initial_amfactor\n",
        "    amfactors = np.insert(amfactors,0,1)\n",
        "    balance = initial_bal*amfactors\n",
        "    int_pymts = balance[0:-1]*coupon\n",
        "    prin_pymts = balance[0:-1] - balance[1:]\n",
        "\n",
        "    price = 100*np.sum(discount_factors[0:term-age]*(int_pymts + prin_pymts))/initial_bal\n",
        "    prices.append(price)\n",
        "\n",
        "  price_frame = pd.DataFrame({\"price\": prices, \"balance\": mbs_data['curr_bal']})\n",
        "  return price_frame\n",
        "\n",
        "base_df = base_curve.calculate_df(range(1,361))\n",
        "mbs_prices = static_pricing(mbs_data, 6, base_df)"
      ],
      "metadata": {
        "id": "EaMlQl82-fL_"
      },
      "execution_count": null,
      "outputs": []
    },
    {
      "cell_type": "code",
      "source": [
        "\n",
        "wavg_price = np.sum(mbs_prices['price']*mbs_prices['balance'])/np.sum(mbs_prices['balance'])\n",
        "total_bal = sum(mbs_prices['balance'])/0.95\n",
        "\n",
        "outframe = pd.DataFrame([str(np.round(wavg_price,2)), \n",
        "                         \"$\" + str(np.round(total_bal/10**9,1))+\"B\",\n",
        "                         \"$\" + str(np.round(wavg_price/100*total_bal/10**9,1))+\"B\",\n",
        "                         \"$\" + str(np.round((wavg_price/100-1)*total_bal/10**9,1))+\"B\"],\n",
        "                        index=['Average price', 'Balance outstanding', 'Estimated value', 'Capital shortfall'])\n",
        "\n",
        "print(\"\\n\")\n",
        "print(outframe.to_string(header=False))\n",
        "print(\"\\n\")\n",
        "\n",
        "mbs_prices['price'].hist(weights=mbs_prices['balance'],figsize=(8,5))\n",
        "plt.xlabel(\"Price\")\n",
        "plt.ylabel(\"Balance\")\n",
        "plt.title(\"Distribution of RMBS prices\")\n",
        "plt.show()\n"
      ],
      "metadata": {
        "colab": {
          "base_uri": "https://localhost:8080/",
          "height": 489
        },
        "id": "DID1D-v40RKX",
        "outputId": "0b90fdca-983c-43b9-e1cf-988df495760d"
      },
      "execution_count": null,
      "outputs": [
        {
          "output_type": "stream",
          "name": "stdout",
          "text": [
            "\n",
            "\n",
            "Average price           88.35\n",
            "Balance outstanding  $2690.0B\n",
            "Estimated value      $2376.5B\n",
            "Capital shortfall    $-313.4B\n",
            "\n",
            "\n"
          ]
        },
        {
          "output_type": "display_data",
          "data": {
            "text/plain": [
              "<Figure size 576x360 with 1 Axes>"
            ],
            "image/png": "[encoded data removed]"
          },
          "metadata": {
            "needs_background": "light"
          }
        }
      ]
    },
    {
      "cell_type": "markdown",
      "source": [
        "# 4. Portfolio risk\n",
        "Finally I estimate the interest rate risk of the Fed's portfolio by calculating the effective duration and DV01. The effective duration measures the sensitivity of price to interest rate changes for each security. I calculate the effective duration using +/-25 basis point shocks to the treasury par curve. Then I calculate the DV01 by estimating the change in portfolio value for each 1 bp change in rates.\n",
        "\n",
        "Using this methodology I find the effective duration of the portfolio is 6.67 and the DV01 is &#36;1.51 billion."
      ],
      "metadata": {
        "id": "oqu1VkF4-w-1"
      }
    },
    {
      "cell_type": "code",
      "source": [
        "\n",
        "curve_up25 = TreasuryParCurve(maturities, [r+0.25 for r in rates], asof_date)\n",
        "curve_down25 = TreasuryParCurve(maturities, [r-0.25 for r in rates], asof_date)\n",
        "prices_up25 = static_pricing(mbs_data, 6, curve_up25.calculate_df(range(1,361)))\n",
        "prices_down25 = static_pricing(mbs_data, 6, curve_down25.calculate_df(range(1,361)))\n",
        "\n",
        "duration = (prices_down25['price'] - prices_up25['price'])/(0.5*mbs_prices['price']/100)\n",
        "wavg_duration = np.sum(mbs_prices['balance']*duration)/np.sum(mbs_prices['balance'])\n",
        "portfolio_duration = wavg_duration*np.sum(mbs_prices['balance']*mbs_prices['price']/100)/10000\n",
        "\n",
        "print(\"\\n\")\n",
        "print(\"Average duration: \\t\", np.round(wavg_duration,2))\n",
        "print('Portfolio DV01: \\t', \"$\" + str(np.round(portfolio_duration/10**9,2)) + \"B\")\n",
        "print(\"\\n\")\n",
        "\n",
        "duration.hist(weights=mbs_prices['balance'], figsize=(8,5))\n",
        "plt.xlabel(\"Duration\")\n",
        "plt.ylabel(\"Balance\")\n",
        "plt.title(\"Distribution of portfolio duration\")\n",
        "plt.show()\n"
      ],
      "metadata": {
        "colab": {
          "base_uri": "https://localhost:8080/",
          "height": 454
        },
        "id": "dY_NtX1i-wfq",
        "outputId": "83a604f2-7061-40ec-cd7d-7e34b447b53b"
      },
      "execution_count": null,
      "outputs": [
        {
          "output_type": "stream",
          "name": "stdout",
          "text": [
            "\n",
            "\n",
            "Average duration: \t 6.67\n",
            "Portfolio DV01: \t $1.51B\n",
            "\n",
            "\n"
          ]
        },
        {
          "output_type": "display_data",
          "data": {
            "text/plain": [
              "<Figure size 576x360 with 1 Axes>"
            ],
            "image/png": "[encoded data removed]"
          },
          "metadata": {
            "needs_background": "light"
          }
        }
      ]
    }
  ]
}